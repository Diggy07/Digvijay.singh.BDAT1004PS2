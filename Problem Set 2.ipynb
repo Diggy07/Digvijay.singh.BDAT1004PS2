{
 "cells": [
  {
   "cell_type": "markdown",
   "id": "5ab57a88",
   "metadata": {},
   "source": [
    "# Question 1 - Answer"
   ]
  },
  {
   "cell_type": "code",
   "execution_count": 3,
   "id": "9d224f58",
   "metadata": {},
   "outputs": [
    {
     "name": "stdout",
     "output_type": "stream",
     "text": [
      "6\n"
     ]
    }
   ],
   "source": [
    "import myModule \n",
    "myModule.b()\n",
    "myModule.b()\n",
    "myModule.b()\n",
    "print(myModule.a)"
   ]
  },
  {
   "cell_type": "markdown",
   "id": "24de886d",
   "metadata": {},
   "source": [
    "Global variable a will be passed into function c() where it's initial value is 0. In c() the value 2 will be added to a .When returned by the function c() it will be the new value for a. Now value of a is 2.\n",
    "\n",
    "While executing b() value of a is 2. Like the previous expression 2 will be added to the current value of a. Now the value of a is 4. \n",
    "\n",
    "Now the current value of a is 4, when it will be passed into c(), then again 2 will be added to the a. \n",
    "\n",
    "So, the final value of a is 6.\n",
    " "
   ]
  },
  {
   "cell_type": "markdown",
   "id": "318c4049",
   "metadata": {},
   "source": [
    "# Question 2 - Answer"
   ]
  },
  {
   "cell_type": "code",
   "execution_count": 4,
   "id": "3f848507",
   "metadata": {},
   "outputs": [
    {
     "name": "stdout",
     "output_type": "stream",
     "text": [
      "File idterm.py not found.\n"
     ]
    }
   ],
   "source": [
    "def fileLength(fileName):\n",
    "    try:\n",
    "        content = open(fileName).read()\n",
    "        length = len(content)\n",
    "        print(\"length is {name} is {length}\".format(name = fileName, length = length))\n",
    "    except FileNotFoundError:\n",
    "        print(\"File {} not found.\".format(fileName))\n",
    "        \n",
    "fileLength(\"idterm.py\")"
   ]
  },
  {
   "cell_type": "markdown",
   "id": "9a87af20",
   "metadata": {},
   "source": [
    "# Question 3 - Answer"
   ]
  },
  {
   "cell_type": "code",
   "execution_count": 6,
   "id": "8762271b",
   "metadata": {},
   "outputs": [
    {
     "name": "stdout",
     "output_type": "stream",
     "text": [
      "['doll', 'firetruck', 'kitten']\n"
     ]
    }
   ],
   "source": [
    "class Marsupial:\n",
    "    def __init__(self):\n",
    "        self.pouch = []\n",
    "    def put_in_pouch(self,data):\n",
    "        self.pouch.append(data)\n",
    "    def pouch_contents(self):\n",
    "        print(self.pouch)\n",
    "\n",
    "m = Marsupial()\n",
    "\n",
    "m.put_in_pouch('doll')\n",
    "m.put_in_pouch('firetruck')\n",
    "m.put_in_pouch('kitten')\n",
    "m.pouch_contents()"
   ]
  },
  {
   "cell_type": "code",
   "execution_count": 2,
   "id": "d454bfd8",
   "metadata": {},
   "outputs": [
    {
     "name": "stdout",
     "output_type": "stream",
     "text": [
      "I am a Kangaroo located at coordinates (0,0)\n",
      "['doll', 'firetruck', 'kitten']\n",
      "I am a Kangaroo located at coordinates (3,0)\n"
     ]
    }
   ],
   "source": [
    "class Kangaroo(Marsupial):\n",
    "    \n",
    "    def __init__(self, x, y):\n",
    "        super().__init__()\n",
    "        self.cX = x\n",
    "        self.cY = y \n",
    "        \n",
    "    def jump(self, x, y):\n",
    "        self.cX += x\n",
    "        self.cY += y\n",
    "        \n",
    "    def __str__(self):\n",
    "        return \"I am a Kangaroo located at coordinates ({self.cX},{self.cY})\"\n",
    "        \n",
    "k = Kangaroo(0,0)\n",
    "print(k)\n",
    "k.put_in_pouch('doll')\n",
    "k.put_in_pouch('firetruck')\n",
    "k.put_in_pouch('kitten')\n",
    "k.pouch_contents()\n",
    "k.jump(1,0)\n",
    "k.jump(1,0)\n",
    "k.jump(1,0)\n",
    "print(k)"
   ]
  },
  {
   "cell_type": "markdown",
   "id": "7727defb",
   "metadata": {},
   "source": [
    "# Question 4 - Answer"
   ]
  },
  {
   "cell_type": "code",
   "execution_count": 3,
   "id": "b905722d",
   "metadata": {},
   "outputs": [
    {
     "name": "stdout",
     "output_type": "stream",
     "text": [
      "10\n",
      "5\n",
      "16\n",
      "8\n",
      "4\n",
      "2\n",
      "1\n"
     ]
    }
   ],
   "source": [
    "def collatz(n):\n",
    "    if n == 1:\n",
    "        print(n)\n",
    "    elif n % 2 == 0:\n",
    "        print(n)\n",
    "        collatz(n//2)\n",
    "    else:\n",
    "        print(n)\n",
    "        collatz((n * 3) + 1)\n",
    "collatz(10)"
   ]
  },
  {
   "cell_type": "markdown",
   "id": "2bf41fcd",
   "metadata": {},
   "source": [
    "# Question 5 - Answer "
   ]
  },
  {
   "cell_type": "code",
   "execution_count": 2,
   "id": "45828114",
   "metadata": {
    "scrolled": false
   },
   "outputs": [
    {
     "name": "stdout",
     "output_type": "stream",
     "text": [
      "Enter non-negative number : 0\n",
      "0\n",
      "Enter non-negative number : 1\n",
      "1\n",
      "Enter non-negative number : 5\n",
      "101\n",
      "Enter non-negative number : 25\n",
      "11001\n",
      "Enter non-negative number : -9\n",
      "It is negative number. please enter non-negative number\n",
      "Enter non-negative number : 0.9\n",
      "Error found!\n"
     ]
    }
   ],
   "source": [
    "def binary():\n",
    "    try:\n",
    "        inputValue = int(input('Enter non-negative number : '))\n",
    "        if inputValue >= 0:\n",
    "            print(f'{inputValue:0b}')\n",
    "            binary()\n",
    "        else:\n",
    "            print(\"It is negative number. please enter non-negative number\")\n",
    "            binary()\n",
    "    except:\n",
    "        print(\"Error found!\")\n",
    "binary()"
   ]
  },
  {
   "cell_type": "markdown",
   "id": "d724dba5",
   "metadata": {},
   "source": [
    "# Question 6 - Answer"
   ]
  },
  {
   "cell_type": "code",
   "execution_count": 1,
   "id": "d9848f6c",
   "metadata": {},
   "outputs": [
    {
     "name": "stdout",
     "output_type": "stream",
     "text": [
      "W3C Mission\n",
      "\tPrinciples\n"
     ]
    }
   ],
   "source": [
    "from html.parser import HTMLParser\n",
    "\n",
    "class HeadingParser(HTMLParser):\n",
    "    h1Found = False\n",
    "    h2Found = False\n",
    "    def handle_starttag(self, tag, attrs):\n",
    "        if tag == \"h1\":\n",
    "            self.h1Found = True\n",
    "        elif tag == \"h2\":\n",
    "            self.h2Found = True\n",
    "    def handle_data(self, data):\n",
    "        if self.h1Found:\n",
    "            print(data)\n",
    "        if self.h2Found:\n",
    "            print('\\t'*1 + data)\n",
    "    def handle_endtag(self, tag):\n",
    "        if tag ==\"h1\":\n",
    "            self.h1Found = False\n",
    "        elif tag == \"h2\":\n",
    "            self.h2Found = False\n",
    "\n",
    "hp = HeadingParser()\n",
    "file = open('w3c.html')\n",
    "html = file.read()\n",
    "file.close()\n",
    "hp.feed(html)"
   ]
  },
  {
   "cell_type": "markdown",
   "id": "d46201d9",
   "metadata": {},
   "source": [
    "# Question 7 - Answer"
   ]
  },
  {
   "cell_type": "markdown",
   "id": "047b65fb",
   "metadata": {},
   "source": [
    "# Question 8 - Answer"
   ]
  },
  {
   "cell_type": "code",
   "execution_count": 2,
   "id": "a208a25d",
   "metadata": {},
   "outputs": [],
   "source": [
    "import sqlite3"
   ]
  },
  {
   "cell_type": "code",
   "execution_count": 3,
   "id": "b3f8ef0c",
   "metadata": {},
   "outputs": [],
   "source": [
    "con=sqlite3.connect('GlobalData.db')\n",
    "cur=con.cursor()\n"
   ]
  },
  {
   "cell_type": "code",
   "execution_count": 4,
   "id": "b70253bf",
   "metadata": {},
   "outputs": [],
   "source": [
    "cur.execute('create table World(City text,Country text,Season text,Temprature FLOAT,Rainfall FLOAT );');"
   ]
  },
  {
   "cell_type": "code",
   "execution_count": 5,
   "id": "7ea8ecba",
   "metadata": {},
   "outputs": [
    {
     "data": {
      "text/plain": [
       "<sqlite3.Cursor at 0x283ba662110>"
      ]
     },
     "execution_count": 5,
     "metadata": {},
     "output_type": "execute_result"
    }
   ],
   "source": [
    "cur.execute('INSERT INTO World(City,Country,Season,Temprature,Rainfall) VALUES(\"Mumbai\",\"India\",\"Winter\",24.8,5.9);')\n",
    "cur.execute('INSERT INTO World(City,Country,Season,Temprature,Rainfall) VALUES(\"Mumbai\",\"India\",\"Spring\",28.4,16.2);')\n",
    "cur.execute('INSERT INTO World(City,Country,Season,Temprature,Rainfall) VALUES(\"Mumbai\",\"India\",\"Summer\",27.9,1549.4);')\n",
    "cur.execute('INSERT INTO World(City,Country,Season,Temprature,Rainfall) VALUES(\"Mumbai\",\"India\",\"Fall\",27.6,346.0);')\n",
    "\n",
    "cur.execute('INSERT INTO World(City,Country,Season,Temprature,Rainfall) VALUES(\"London\",\"United Kingdom\",\"Winter\",4.2,207.7);')\n",
    "cur.execute('INSERT INTO World(City,Country,Season,Temprature,Rainfall) VALUES(\"London\",\"United Kingdom\",\"Spring\",8.3,169.6);')\n",
    "cur.execute('INSERT INTO World(City,Country,Season,Temprature,Rainfall) VALUES(\"London\",\"United Kingdom\",\"Summer\",15.7,157.0);')\n",
    "cur.execute('INSERT INTO World(City,Country,Season,Temprature,Rainfall) VALUES(\"London\",\"United Kingdom\",\"Fall\",10.4,218.5);')\n",
    "\n",
    "cur.execute('INSERT INTO World(City,Country,Season,Temprature,Rainfall) VALUES(\"Cairo\",\"Egypt\",\"Winter\",13.6,16.5);')\n",
    "cur.execute('INSERT INTO World(City,Country,Season,Temprature,Rainfall) VALUES(\"Cairo\",\"Egypt\",\"Spring\",20.7,6.5);')\n",
    "cur.execute('INSERT INTO World(City,Country,Season,Temprature,Rainfall) VALUES(\"Cairo\",\"Egypt\",\"Summer\",27.7,0.1);')\n",
    "cur.execute('INSERT INTO World(City,Country,Season,Temprature,Rainfall) VALUES(\"Cairo\",\"Egypt\",\"Fall\",22.2,4.5);')"
   ]
  },
  {
   "cell_type": "code",
   "execution_count": 6,
   "id": "b37144e4",
   "metadata": {},
   "outputs": [
    {
     "name": "stdout",
     "output_type": "stream",
     "text": [
      "(24.8,)\n",
      "(28.4,)\n",
      "(27.9,)\n",
      "(27.6,)\n",
      "(4.2,)\n",
      "(8.3,)\n",
      "(15.7,)\n",
      "(10.4,)\n",
      "(13.6,)\n",
      "(20.7,)\n",
      "(27.7,)\n",
      "(22.2,)\n"
     ]
    }
   ],
   "source": [
    "#a) All the temperature data.\n",
    "for row in cur.execute('SELECT Temprature FROM World;'):\n",
    "    print(row)"
   ]
  },
  {
   "cell_type": "code",
   "execution_count": 7,
   "id": "ea358caf",
   "metadata": {},
   "outputs": [
    {
     "name": "stdout",
     "output_type": "stream",
     "text": [
      "('Mumbai',)\n",
      "('London',)\n",
      "('Cairo',)\n"
     ]
    }
   ],
   "source": [
    "#b) All the cities, but without repetition.\n",
    "for row in cur.execute('SELECT DISTINCT City FROM World;'):\n",
    "    print(row)"
   ]
  },
  {
   "cell_type": "code",
   "execution_count": 8,
   "id": "c5a15172",
   "metadata": {},
   "outputs": [
    {
     "name": "stdout",
     "output_type": "stream",
     "text": [
      "('Mumbai', 'India', 'Winter', 24.8, 5.9)\n",
      "('Mumbai', 'India', 'Spring', 28.4, 16.2)\n",
      "('Mumbai', 'India', 'Summer', 27.9, 1549.4)\n",
      "('Mumbai', 'India', 'Fall', 27.6, 346.0)\n"
     ]
    }
   ],
   "source": [
    "#c) All the records for India.\n",
    "for row in cur.execute('SELECT * FROM World WHERE Country = \"India\";'):\n",
    "    print(row)"
   ]
  },
  {
   "cell_type": "code",
   "execution_count": 9,
   "id": "d8aeac3d",
   "metadata": {},
   "outputs": [
    {
     "name": "stdout",
     "output_type": "stream",
     "text": [
      "('Mumbai', 'India', 'Fall', 27.6, 346.0)\n",
      "('London', 'United Kingdom', 'Fall', 10.4, 218.5)\n",
      "('Cairo', 'Egypt', 'Fall', 22.2, 4.5)\n"
     ]
    }
   ],
   "source": [
    "#d) All the Fall records.\n",
    "for row in cur.execute('SELECT * FROM World WHERE Season = \"Fall\";'):\n",
    "    print(row)"
   ]
  },
  {
   "cell_type": "code",
   "execution_count": 10,
   "id": "43d95061",
   "metadata": {},
   "outputs": [
    {
     "name": "stdout",
     "output_type": "stream",
     "text": [
      "('Mumbai', 'India', 'Fall')\n",
      "('London', 'United Kingdom', 'Winter')\n",
      "('London', 'United Kingdom', 'Fall')\n"
     ]
    }
   ],
   "source": [
    "#e) The city, country, and season for which the average rainfall is between 200 and 400 millimeters.\n",
    "\n",
    "for row in cur.execute('SELECT City,Country,Season FROM World WHERE Rainfall BETWEEN 200 AND 400;'):\n",
    "    print(row)"
   ]
  },
  {
   "cell_type": "code",
   "execution_count": 11,
   "id": "1c8d10f3",
   "metadata": {},
   "outputs": [
    {
     "name": "stdout",
     "output_type": "stream",
     "text": [
      "('Cairo', 'Egypt')\n",
      "('Mumbai', 'India')\n"
     ]
    }
   ],
   "source": [
    "# f) The city and country for which the average Fall temperature is above 20 degrees, in increasing temperature order.\n",
    "# QUERY 1 - this for get only City and Country which have temprature above 20 degrees\n",
    "\n",
    "for row in cur.execute('SELECT City,Country FROM World WHERE Season = \"Fall\" AND Temprature > 20 ORDER BY Temprature;'):\n",
    "    print(row)"
   ]
  },
  {
   "cell_type": "code",
   "execution_count": 12,
   "id": "2f2a692c",
   "metadata": {},
   "outputs": [
    {
     "name": "stdout",
     "output_type": "stream",
     "text": [
      "(27.6,)\n"
     ]
    }
   ],
   "source": [
    "#g) The total annual rainfall for Cairo.\n",
    "for row in cur.execute('SELECT SUM(Rainfall) FROM World WHERE City = \"Cairo\";'):\n",
    "    print(row)"
   ]
  },
  {
   "cell_type": "code",
   "execution_count": 13,
   "id": "97fc3e9e",
   "metadata": {},
   "outputs": [
    {
     "name": "stdout",
     "output_type": "stream",
     "text": [
      "('Fall', 569.0)\n",
      "('Spring', 192.29999999999998)\n",
      "('Summer', 1706.5)\n",
      "('Winter', 230.1)\n"
     ]
    }
   ],
   "source": [
    "#h) The total rainfall for each season.\n",
    "for row in cur.execute('SELECT Season, SUM(Rainfall) FROM World GROUP BY Season;'):\n",
    "    print(row)"
   ]
  },
  {
   "cell_type": "markdown",
   "id": "b8779828",
   "metadata": {},
   "source": [
    "# Question 9 - Answer"
   ]
  },
  {
   "cell_type": "code",
   "execution_count": 17,
   "id": "f8bd6dd3",
   "metadata": {},
   "outputs": [],
   "source": [
    "words = ['The', 'quick', 'brown', 'fox', 'jumps', 'over', 'the', 'lazy', 'dog']"
   ]
  },
  {
   "cell_type": "code",
   "execution_count": 18,
   "id": "ca6061af",
   "metadata": {},
   "outputs": [
    {
     "name": "stdout",
     "output_type": "stream",
     "text": [
      "['THE', 'QUICK', 'BROWN', 'FOX', 'JUMPS', 'OVER', 'THE', 'LAZY', 'DOG']\n"
     ]
    }
   ],
   "source": [
    "# a) \n",
    "list1 = [w.upper() for w in words]\n",
    "print(list1)"
   ]
  },
  {
   "cell_type": "code",
   "execution_count": 19,
   "id": "dc0ebceb",
   "metadata": {},
   "outputs": [
    {
     "name": "stdout",
     "output_type": "stream",
     "text": [
      "['the', 'quick', 'brown', 'fox', 'jumps', 'over', 'the', 'lazy', 'dog']\n"
     ]
    }
   ],
   "source": [
    "# b) \n",
    "list2 = [w.lower() for w in words]\n",
    "print(list2)"
   ]
  },
  {
   "cell_type": "code",
   "execution_count": 20,
   "id": "baa016c1",
   "metadata": {},
   "outputs": [
    {
     "name": "stdout",
     "output_type": "stream",
     "text": [
      "[3, 5, 5, 3, 5, 4, 3, 4, 3]\n"
     ]
    }
   ],
   "source": [
    "# c) \n",
    "list3 = [len(w) for w in words]\n",
    "print(list3)"
   ]
  },
  {
   "cell_type": "code",
   "execution_count": 21,
   "id": "39041eb7",
   "metadata": {},
   "outputs": [
    {
     "name": "stdout",
     "output_type": "stream",
     "text": [
      "[['THE', 'the', 3], ['QUICK', 'quick', 5], ['BROWN', 'brown', 5], ['FOX', 'fox', 3], ['JUMPS', 'jumps', 5], ['OVER', 'over', 4], ['THE', 'the', 3], ['LAZY', 'lazy', 4], ['DOG', 'dog', 3]]\n"
     ]
    }
   ],
   "source": [
    "# d) \n",
    "list4 = [[w.upper(),w.lower(),len(w) ] for w in words]\n",
    "print(list4)"
   ]
  },
  {
   "cell_type": "code",
   "execution_count": 22,
   "id": "75b1c392",
   "metadata": {},
   "outputs": [
    {
     "name": "stdout",
     "output_type": "stream",
     "text": [
      "['quick', 'brown', 'jumps', 'over', 'lazy']\n"
     ]
    }
   ],
   "source": [
    "# e)\n",
    "list5 = [w for w in words if len(w) >= 4]\n",
    "print(list5)"
   ]
  }
 ],
 "metadata": {
  "kernelspec": {
   "display_name": "Python 3 (ipykernel)",
   "language": "python",
   "name": "python3"
  },
  "language_info": {
   "codemirror_mode": {
    "name": "ipython",
    "version": 3
   },
   "file_extension": ".py",
   "mimetype": "text/x-python",
   "name": "python",
   "nbconvert_exporter": "python",
   "pygments_lexer": "ipython3",
   "version": "3.9.12"
  }
 },
 "nbformat": 4,
 "nbformat_minor": 5
}
